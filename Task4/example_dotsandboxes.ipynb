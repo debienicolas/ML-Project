{
 "cells": [
  {
   "cell_type": "markdown",
   "id": "6ceb4f78-204c-4cec-91f0-6a5018da7485",
   "metadata": {},
   "source": [
    "# Dots and Boxes"
   ]
  },
  {
   "cell_type": "markdown",
   "id": "bf5001b0-3c3d-4984-aa12-fe2610db9fb9",
   "metadata": {},
   "source": [
    "*Wannes Meert, Giuseppe Marra, Pieter Robberechts*  \n",
    "*Dept CS, KU Leuven*\n",
    "\n",
    "Code examples for how to play Dots and Boxes as implemented in OpenSpiel."
   ]
  },
  {
   "cell_type": "code",
   "execution_count": 1,
   "id": "adfe0d8d-8e16-4d9b-99f1-9d8b38314d80",
   "metadata": {},
   "outputs": [],
   "source": [
    "import random\n",
    "import pyspiel"
   ]
  },
  {
   "cell_type": "markdown",
   "id": "f78ada3e-95eb-4cad-bc55-5f5edb92f431",
   "metadata": {},
   "source": [
    "## Set up game"
   ]
  },
  {
   "cell_type": "code",
   "execution_count": 2,
   "id": "f4f3e9c0-ba12-4cb5-b8aa-04881c04e001",
   "metadata": {},
   "outputs": [],
   "source": [
    "num_rows, num_cols = 2, 2  # Number of squares\n",
    "game_string = (f\"dots_and_boxes(num_rows={num_rows},num_cols={num_cols},\"\n",
    "                \"utility_margin=true)\")\n",
    "game = pyspiel.load_game(game_string)"
   ]
  },
  {
   "cell_type": "code",
   "execution_count": 4,
   "id": "8b33bb15-6008-434e-a705-f2d70d7ed4f8",
   "metadata": {},
   "outputs": [
    {
     "name": "stdout",
     "output_type": "stream",
     "text": [
      "num_rows=2, num_cols=2, num_cells=9\n"
     ]
    }
   ],
   "source": [
    "params = game.get_parameters()\n",
    "assert num_rows == params['num_rows']\n",
    "assert num_cols == params['num_cols']\n",
    "num_cells = (num_rows + 1) * (num_cols + 1)\n",
    "num_parts = 3   # (horizontal, vertical, cell)\n",
    "num_states = 3  # (empty, player1, player2)\n",
    "\n",
    "def part2num(part):\n",
    "    p = {'h': 0, 'horizontal': 0,  # Who has set the horizontal line (top of cell)\n",
    "         'v': 1, 'vertical':   1,  # Who has set the vertical line (left of cell)\n",
    "         'c': 2, 'cell':       2}  # Who has won the cell\n",
    "    return p.get(part, part)\n",
    "def state2num(state):\n",
    "    s = {'e':  0, 'empty':   0,\n",
    "         'p1': 1, 'player1': 1,\n",
    "         'p2': 2, 'player2': 2}\n",
    "    return s.get(state, state)\n",
    "def num2state(state):\n",
    "    s = {0: 'empty', 1: 'player1', 2: 'player2'}\n",
    "    return s.get(state, state)\n",
    "\n",
    "print(f\"{num_rows=}, {num_cols=}, {num_cells=}\")"
   ]
  },
  {
   "cell_type": "markdown",
   "id": "a0eb8629-1c98-4529-a86a-d3c6a5e09d2e",
   "metadata": {},
   "source": [
    "## Play game"
   ]
  },
  {
   "cell_type": "code",
   "execution_count": 5,
   "id": "2d3ce56c-6b25-4fff-bc71-15fc12d3bf1a",
   "metadata": {},
   "outputs": [
    {
     "data": {
      "text/plain": [
       "┌╴ ╶┬╴ ╶┐\n",
       "         \n",
       "├╴ ╶┼╴ ╶┤\n",
       "         \n",
       "└╴ ╶┴╴ ╶┘"
      ]
     },
     "execution_count": 5,
     "metadata": {},
     "output_type": "execute_result"
    }
   ],
   "source": [
    "state = game.new_initial_state()\n",
    "state"
   ]
  },
  {
   "cell_type": "markdown",
   "id": "1298fcbe-b503-4fae-a7d9-ffb87a4b5a2e",
   "metadata": {},
   "source": [
    "### Available actions in the current state"
   ]
  },
  {
   "cell_type": "code",
   "execution_count": 5,
   "id": "82bc3cad-bc65-4c22-b015-cab88c6f143a",
   "metadata": {},
   "outputs": [
    {
     "data": {
      "text/plain": [
       "[0, 1, 2, 3, 4, 5, 6, 7, 8, 9, 10, 11]"
      ]
     },
     "execution_count": 5,
     "metadata": {},
     "output_type": "execute_result"
    }
   ],
   "source": [
    "current_player = state.current_player()\n",
    "legal_actions = state.legal_actions()\n",
    "legal_actions"
   ]
  },
  {
   "cell_type": "code",
   "execution_count": 6,
   "id": "fb45587f-660d-49ae-a91d-d46fe184c352",
   "metadata": {},
   "outputs": [
    {
     "name": "stdout",
     "output_type": "stream",
     "text": [
      "Legal action: P1(h,0,0) (0)\n",
      "Legal action: P1(h,0,1) (1)\n",
      "Legal action: P1(h,1,0) (2)\n",
      "Legal action: P1(h,1,1) (3)\n",
      "Legal action: P1(h,2,0) (4)\n",
      "Legal action: P1(h,2,1) (5)\n",
      "Legal action: P1(v,0,0) (6)\n",
      "Legal action: P1(v,0,1) (7)\n",
      "Legal action: P1(v,0,2) (8)\n",
      "Legal action: P1(v,1,0) (9)\n",
      "Legal action: P1(v,1,1) (10)\n",
      "Legal action: P1(v,1,2) (11)\n"
     ]
    }
   ],
   "source": [
    "for action in legal_actions:\n",
    "      print(\"Legal action: {} ({})\".format(\n",
    "          state.action_to_string(current_player, action), action))"
   ]
  },
  {
   "cell_type": "markdown",
   "id": "7686932f-59a4-4f0c-bbfb-9c575ffcce78",
   "metadata": {},
   "source": [
    "The formula to switch between action number and action description is based on counting:\n",
    "- First all horizontal lines, row by row.\n",
    "- Second all vertical lines, row by row."
   ]
  },
  {
   "cell_type": "code",
   "execution_count": 7,
   "id": "2c194ad8-1abe-44a3-ae50-d32ec5a14e84",
   "metadata": {},
   "outputs": [
    {
     "name": "stdout",
     "output_type": "stream",
     "text": [
      "action=10 : (v,1,1)\n"
     ]
    }
   ],
   "source": [
    "action = 10\n",
    "nb_hlines = (num_rows + 1) * num_cols\n",
    "if action < nb_hlines:\n",
    "    row = action // num_cols\n",
    "    col = action % num_cols\n",
    "    print(f\"{action=} : (h,{row},{col})\")\n",
    "else:\n",
    "    action2 = action - nb_hlines\n",
    "    row = action2 // (num_cols + 1)\n",
    "    col = action2 % (num_cols + 1)\n",
    "    print(f\"{action=} : (v,{row},{col})\")"
   ]
  },
  {
   "cell_type": "markdown",
   "id": "c9a35396-dd36-46f8-8afd-af8da17f4b8e",
   "metadata": {},
   "source": [
    "### Current observation"
   ]
  },
  {
   "cell_type": "markdown",
   "id": "d5a03105-f137-4e14-b7fe-2754e129e315",
   "metadata": {},
   "source": [
    "The observation is expressed as a tensor with dimensions:\n",
    "\n",
    "- Axis 1: Nb of cellstates: `3` (empty, player1, player2)\n",
    "- Axis 2: Nb of cells: `(num_rows + 1) * (num_cols + 1)`  \n",
    "  Cells are counted row-wise (thus `cell = col + row * (num_cols + 1)`\n",
    "- Axis 3: Nb of cell parts: `3` (horizontal, vertical, won by)"
   ]
  },
  {
   "cell_type": "code",
   "execution_count": 8,
   "id": "0077ab4e-76eb-4a36-a778-054b0038d231",
   "metadata": {},
   "outputs": [],
   "source": [
    "def get_observation(obs_tensor, state, row, col, part):\n",
    "    state = state2num(state)\n",
    "    part = part2num(part)\n",
    "    idx =   part \\\n",
    "          + (row * (num_cols + 1) + col) * num_parts  \\\n",
    "          + state * (num_parts * num_cells)\n",
    "    return obs_tensor[idx]\n",
    "def get_observation_state(obs_tensor, row, col, part, as_str=True):\n",
    "    is_state = None\n",
    "    for state in range(3):\n",
    "        if get_observation(obs_tensor, state, row, col, part) == 1.0:\n",
    "            is_state = state\n",
    "    if as_str:\n",
    "        is_state = num2state(is_state)\n",
    "    return is_state"
   ]
  },
  {
   "cell_type": "markdown",
   "id": "30b196a8-b3f3-4920-bc76-301b2811c2de",
   "metadata": {},
   "source": [
    "Set up a game with two steps"
   ]
  },
  {
   "cell_type": "code",
   "execution_count": 9,
   "id": "63026646-98a4-4489-a706-0600f07ec84e",
   "metadata": {},
   "outputs": [
    {
     "name": "stdout",
     "output_type": "stream",
     "text": [
      "0           1           2        \n",
      "┌╴ ╶┬╴ ╶┐   ┌───┬╴ ╶┐   ┌───┬╴ ╶┐\n",
      "                        │        \n",
      "├╴ ╶┼╴ ╶┤   ├╴ ╶┼╴ ╶┤   ├╴ ╶┼╴ ╶┤\n",
      "                                 \n",
      "└╴ ╶┴╴ ╶┘   └╴ ╶┴╴ ╶┘   └╴ ╶┴╴ ╶┘\n",
      "      \n"
     ]
    }
   ],
   "source": [
    "state = game.new_initial_state()\n",
    "state_strs, obs_tensors = [], []\n",
    "actions = [0, 6]\n",
    "\n",
    "state_strs += [f\"{0:<{num_cols*4+1}}\\n\" + str(state)]\n",
    "obs_tensors += [state.observation_tensor()]\n",
    "for idx, action in enumerate(actions):\n",
    "    state.apply_action(action)\n",
    "    state_strs += [f\"{idx+1:<{num_cols*4+1}}\\n\" + str(state)]\n",
    "    obs_tensors += [state.observation_tensor()]\n",
    "\n",
    "print(\"\\n\".join(\"   \".join(t) for t in zip(*[s.split(\"\\n\") for s in state_strs])))"
   ]
  },
  {
   "cell_type": "code",
   "execution_count": 10,
   "id": "cdca2d3f-1d57-43b9-b9a1-a6731b34b88a",
   "metadata": {},
   "outputs": [
    {
     "data": {
      "text/plain": [
       "('empty', 'player1')"
      ]
     },
     "execution_count": 10,
     "metadata": {},
     "output_type": "execute_result"
    }
   ],
   "source": [
    "(get_observation_state(obs_tensors[0], 0, 0, 'h'),\n",
    " get_observation_state(obs_tensors[2], 0, 0, 'h'))"
   ]
  },
  {
   "cell_type": "code",
   "execution_count": 11,
   "id": "cd78aff7-21e1-4c68-9649-069c16b51f6a",
   "metadata": {},
   "outputs": [
    {
     "data": {
      "text/plain": [
       "('empty', 'player2')"
      ]
     },
     "execution_count": 11,
     "metadata": {},
     "output_type": "execute_result"
    }
   ],
   "source": [
    "(get_observation_state(obs_tensors[0], 0, 0, 'v'),\n",
    " get_observation_state(obs_tensors[2], 0, 0, 'v'))"
   ]
  },
  {
   "cell_type": "markdown",
   "id": "c3914299-a022-4960-ae7a-0eb7215f70e5",
   "metadata": {},
   "source": [
    "## Playing an entire (random) game"
   ]
  },
  {
   "cell_type": "markdown",
   "id": "031caf3d-a4f5-4c86-8812-7ca03e9231d9",
   "metadata": {},
   "source": [
    "Here is a small example that plays an entire (random) game. If you want to see more examples (e.g. including training), open the `open_spiel/python/examples` directory."
   ]
  },
  {
   "cell_type": "code",
   "execution_count": 3,
   "id": "512911e2-2678-4370-8255-ceb81a241515",
   "metadata": {},
   "outputs": [
    {
     "name": "stdout",
     "output_type": "stream",
     "text": [
      "Initial state:\n",
      "┌╴ ╶┬╴ ╶┐\n",
      "         \n",
      "├╴ ╶┼╴ ╶┤\n",
      "         \n",
      "└╴ ╶┴╴ ╶┘\n",
      "\n",
      "Player1:\n",
      "┌╴ ╶┬╴ ╶┐\n",
      "         \n",
      "├╴ ╶┼───┤\n",
      "         \n",
      "└╴ ╶┴╴ ╶┘\n",
      "\n",
      "Player2:\n",
      "┌───┬╴ ╶┐\n",
      "         \n",
      "├╴ ╶┼───┤\n",
      "         \n",
      "└╴ ╶┴╴ ╶┘\n",
      "\n",
      "Player1:\n",
      "┌───┬╴ ╶┐\n",
      "         \n",
      "├╴ ╶┼───┤\n",
      "        │\n",
      "└╴ ╶┴╴ ╶┘\n",
      "\n",
      "Player2:\n",
      "┌───┬╴ ╶┐\n",
      "         \n",
      "├╴ ╶┼───┤\n",
      "    │   │\n",
      "└╴ ╶┴╴ ╶┘\n",
      "\n",
      "Player1:\n",
      "┌───┬╴ ╶┐\n",
      "│        \n",
      "├╴ ╶┼───┤\n",
      "    │   │\n",
      "└╴ ╶┴╴ ╶┘\n",
      "\n",
      "Player2:\n",
      "┌───┬───┐\n",
      "│        \n",
      "├╴ ╶┼───┤\n",
      "    │   │\n",
      "└╴ ╶┴╴ ╶┘\n",
      "\n",
      "Player1:\n",
      "┌───┬───┐\n",
      "│        \n",
      "├╴ ╶┼───┤\n",
      "    │   │\n",
      "└───┴╴ ╶┘\n",
      "\n",
      "Player2:\n",
      "┌───┬───┐\n",
      "│        \n",
      "├───┼───┤\n",
      "    │   │\n",
      "└───┴╴ ╶┘\n",
      "\n",
      "Player1:\n",
      "┌───┬───┐\n",
      "│ 1 │    \n",
      "├───┼───┤\n",
      "    │   │\n",
      "└───┴╴ ╶┘\n",
      "\n",
      "Player1:\n",
      "┌───┬───┐\n",
      "│ 1 │ 1 │\n",
      "├───┼───┤\n",
      "    │   │\n",
      "└───┴╴ ╶┘\n",
      "\n",
      "Player1:\n",
      "┌───┬───┐\n",
      "│ 1 │ 1 │\n",
      "├───┼───┤\n",
      "│ 1 │   │\n",
      "└───┴╴ ╶┘\n",
      "\n",
      "Player1:\n",
      "┌───┬───┐\n",
      "│ 1 │ 1 │\n",
      "├───┼───┤\n",
      "│ 1 │ 1 │\n",
      "└───┴───┘\n",
      "\n",
      "Player return values: [4.0, -4.0]\n"
     ]
    }
   ],
   "source": [
    "state = game.new_initial_state()\n",
    "print(f\"Initial state:\")\n",
    "print(state)\n",
    "while not state.is_terminal():\n",
    "    current_player = state.current_player()\n",
    "    legal_actions = state.legal_actions()\n",
    "    rand_idx = random.randint(0, len(legal_actions) - 1)\n",
    "    action = legal_actions[rand_idx]\n",
    "    state.apply_action(action)\n",
    "    print(f\"Player{current_player+1}:\")\n",
    "    print(state)\n",
    "returns = state.returns()\n",
    "print(f\"Player return values: {returns}\")"
   ]
  },
  {
   "cell_type": "markdown",
   "id": "a78a7a6a-483e-4e53-a8c3-69a3b1829463",
   "metadata": {},
   "source": [
    "## Running the tournament"
   ]
  },
  {
   "cell_type": "markdown",
   "id": "21c1329f-c3d9-4b17-89ad-2cbe6a61e5cd",
   "metadata": {},
   "source": [
    "You can run the tournament code yourself to test your setup (make sure to also test your code on the server). Check the readme file for more information."
   ]
  },
  {
   "cell_type": "markdown",
   "id": "a5e74a51-8f92-4fc5-807a-1ac9e41a05f0",
   "metadata": {},
   "source": [
    "## Play using the GUI"
   ]
  },
  {
   "cell_type": "markdown",
   "id": "8bc6ddba-17be-43e0-b6c9-b0bc904d962d",
   "metadata": {},
   "source": [
    "You can run your agent inside a websocket wrapper that is compatible with the user interface \n",
    "available on https://github.com/wannesm/dotsandboxes .\n",
    "\n",
    "Instructions:\n",
    "- Start agent using `./agent_websocket.py <dir-where-agent-is> 5001`\n",
    "- Start local server using `./dotsandboxesserver.py 8080` (in the dotsandboxes repo)\n",
    "- Go to `127.0.0.1:8080`\n",
    "- Enter `ws://127.0.0.1:5001` as one of the agents\n",
    "- Start playing\n",
    "\n",
    "The result should look like:\n",
    "\n",
    "![GUI](fig/gui-example.png)"
   ]
  },
  {
   "cell_type": "markdown",
   "id": "cf895fd8-624e-4fbe-9281-bfeab7e21d27",
   "metadata": {},
   "source": [
    "## Start the game from a given situation"
   ]
  },
  {
   "cell_type": "markdown",
   "id": "401acf44-b0de-404e-a06a-236a26809998",
   "metadata": {},
   "source": [
    "The situation can be expressed using the Dots-and-Boxes-Notation (DBN). This notation is based on the sequence of actions."
   ]
  },
  {
   "cell_type": "code",
   "execution_count": 20,
   "id": "1d7ac1b8-964f-45c6-88bc-33bae4661b06",
   "metadata": {},
   "outputs": [
    {
     "data": {
      "text/plain": [
       "┌───┬╴ ╶┐\n",
       "│       │\n",
       "├╴ ╶┼───┤\n",
       "│   │   │\n",
       "└───┴───┘"
      ]
     },
     "execution_count": 20,
     "metadata": {},
     "output_type": "execute_result"
    }
   ],
   "source": [
    "state = game.new_initial_state(\"100111101111\")\n",
    "state"
   ]
  },
  {
   "cell_type": "code",
   "execution_count": 21,
   "id": "68ac095b-0bf7-4a09-baac-5840bf47961c",
   "metadata": {},
   "outputs": [
    {
     "name": "stdout",
     "output_type": "stream",
     "text": [
      "101111101111\n",
      "┌───┬╴ ╶┐\n",
      "│       │\n",
      "├───┼───┤\n",
      "│ 1 │   │\n",
      "└───┴───┘\n",
      "\n",
      "111111101111\n",
      "┌───┬───┐\n",
      "│       │\n",
      "├───┼───┤\n",
      "│ 1 │   │\n",
      "└───┴───┘\n",
      "\n",
      "111111111111\n",
      "┌───┬───┐\n",
      "│ 2 │ 2 │\n",
      "├───┼───┤\n",
      "│ 1 │   │\n",
      "└───┴───┘\n",
      "\n",
      "True\n",
      "[-1.0, 1.0]\n"
     ]
    }
   ],
   "source": [
    "for action in [2, 1, 7]:\n",
    "    state.apply_action(action)\n",
    "    print(state.dbn_string())\n",
    "    print(state)\n",
    "print(state.is_terminal())\n",
    "print(state.returns())"
   ]
  },
  {
   "cell_type": "code",
   "execution_count": null,
   "id": "a2601b31-402a-4e33-99c9-67aad395fa71",
   "metadata": {},
   "outputs": [],
   "source": []
  }
 ],
 "metadata": {
  "kernelspec": {
   "display_name": "Python 3 (ipykernel)",
   "language": "python",
   "name": "python3"
  },
  "language_info": {
   "codemirror_mode": {
    "name": "ipython",
    "version": 3
   },
   "file_extension": ".py",
   "mimetype": "text/x-python",
   "name": "python",
   "nbconvert_exporter": "python",
   "pygments_lexer": "ipython3",
   "version": "3.10.8"
  }
 },
 "nbformat": 4,
 "nbformat_minor": 5
}
